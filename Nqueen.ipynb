{
 "cells": [
  {
   "cell_type": "code",
   "execution_count": 7,
   "metadata": {},
   "outputs": [
    {
     "name": "stdout",
     "output_type": "stream",
     "text": [
      "Enter Chess board dimension you want: 8\n",
      "Solution:\n",
      "[3, 7, 4, 2, 0, 6, 1, 5]\n"
     ]
    }
   ],
   "source": [
    "import import_ipynb\n",
    "from Board import Chess,GeneticChess\n",
    "import tkinter\n",
    "from tkinter import *\n",
    "from tkinter import ttk\n",
    "\n",
    "'''Single GA solution ---------------------------------'''\n",
    "dimension = int(input(\"Enter Chess board dimension you want: \"))\n",
    "chess = GeneticChess(dimension)\n",
    "from time import time\n",
    "start = time()\n",
    "solution = chess.solveGA()\n",
    "end =time()\n",
    "board = chess.createBoard(chess.size)\n",
    "chess.setBoard(board,solution)\n",
    "print(\"Solution:\")\n",
    "print(solution)\n",
    "\n",
    "\n",
    "\n",
    "\n",
    "\n",
    "\n",
    "def solveProblem():\n",
    "    if choice.get() == 1:\n",
    "        chess = Chess(int(n.get()))\n",
    "        chess.solveBackTracking(0)\n",
    "        solution = chess.solutions[0]\n",
    "        for solution in chess.solutions:\n",
    "            for row in solution:\n",
    "                print(row)\n",
    "            print(\"\")\n",
    "        chess.showBoardGui(solution)\n",
    "    elif choice.get() == 2:\n",
    "        chess = GeneticChess(int(n.get()))\n",
    "        solution = chess.solveGA()\n",
    "        board = chess.createBoard(chess.size)\n",
    "        chess.setBoard(board,solution)\n",
    "        print(\"Solution:\")\n",
    "        print(solution)\n",
    "        \n",
    "        chess.showBoardGui(board)\n",
    "        \n",
    "    return\n",
    "\n"
   ]
  },
  {
   "cell_type": "code",
   "execution_count": null,
   "metadata": {},
   "outputs": [],
   "source": []
  },
  {
   "cell_type": "code",
   "execution_count": null,
   "metadata": {},
   "outputs": [],
   "source": []
  }
 ],
 "metadata": {
  "kernelspec": {
   "display_name": "Python 3",
   "language": "python",
   "name": "python3"
  },
  "language_info": {
   "codemirror_mode": {
    "name": "ipython",
    "version": 3
   },
   "file_extension": ".py",
   "mimetype": "text/x-python",
   "name": "python",
   "nbconvert_exporter": "python",
   "pygments_lexer": "ipython3",
   "version": "3.7.6"
  }
 },
 "nbformat": 4,
 "nbformat_minor": 4
}
